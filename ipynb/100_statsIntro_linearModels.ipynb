{
 "metadata": {
  "name": "",
  "signature": "sha256:04e25f1b787f67f0a807dbc3e4bf0e3d885648684076e9edf8b7dce4ea9a3dbf"
 },
 "nbformat": 3,
 "nbformat_minor": 0,
 "worksheets": [
  {
   "cells": [
    {
     "cell_type": "heading",
     "level": 1,
     "metadata": {},
     "source": [
      "Linear Modeling in Python"
     ]
    },
    {
     "cell_type": "markdown",
     "metadata": {},
     "source": [
      "This notebook introduces the use of pandas and the formula framework in statsmodels in the context of linear modeling."
     ]
    },
    {
     "cell_type": "markdown",
     "metadata": {},
     "source": [
      "**It is based heavily on Jonathan Taylor's [class notes that use R](http://www.stanford.edu/class/stats191/interactions.html)**"
     ]
    },
    {
     "cell_type": "code",
     "collapsed": false,
     "input": [
      "pwd"
     ],
     "language": "python",
     "metadata": {},
     "outputs": [
      {
       "metadata": {},
       "output_type": "pyout",
       "prompt_number": 7,
       "text": [
        "'C:\\\\Users\\\\p20529\\\\Coding\\\\Python\\\\th'"
       ]
      }
     ],
     "prompt_number": 7
    },
    {
     "cell_type": "code",
     "collapsed": false,
     "input": [
      "import matplotlib.pyplot as plt\n",
      "import pandas\n",
      "import numpy as np\n",
      "\n",
      "from statsmodels.formula.api import ols\n",
      "from statsmodels.graphics.api import interaction_plot, abline_plot, qqplot\n",
      "from statsmodels.stats.api import anova_lm"
     ],
     "language": "python",
     "metadata": {},
     "outputs": [],
     "prompt_number": 8
    },
    {
     "cell_type": "heading",
     "level": 2,
     "metadata": {},
     "source": [
      "Example 1: IT salary data"
     ]
    },
    {
     "cell_type": "markdown",
     "metadata": {},
     "source": [
      "In this example we will first establish a linear model, of salary as a function of experience, education, and management level.\n",
      "We will test for any interactions between these factors. Significant interactions will be included in the model.\n",
      "Finally, we will remove outliers, and plot the resulting fits."
     ]
    },
    {
     "cell_type": "heading",
     "level": 3,
     "metadata": {},
     "source": [
      "Get the data"
     ]
    },
    {
     "cell_type": "raw",
     "metadata": {},
     "source": [
      "Outcome:    S, salaries for IT staff in a corporation\n",
      "Predictors: X, experience in years\n",
      "            M, managment, 2 levels, 0=non-management, 1=management\n",
      "            E, education, 3 levels, 1=Bachelor's, 2=Master's, 3=Ph.D"
     ]
    },
    {
     "cell_type": "code",
     "collapsed": false,
     "input": [
      "url = 'http://stats191.stanford.edu/data/salary.table'\n",
      "salary_table = pandas.read_table(url) # needs pandas 0.7.3\n",
      "#salary_table.to_csv('salary.table', index=False)"
     ],
     "language": "python",
     "metadata": {},
     "outputs": [],
     "prompt_number": 9
    },
    {
     "cell_type": "heading",
     "level": 3,
     "metadata": {},
     "source": [
      "Inspect the data"
     ]
    },
    {
     "cell_type": "code",
     "collapsed": false,
     "input": [
      "print(salary_table.head(10))"
     ],
     "language": "python",
     "metadata": {},
     "outputs": [
      {
       "output_type": "stream",
       "stream": "stdout",
       "text": [
        "       S  X  E  M\n",
        "0  13876  1  1  1\n",
        "1  11608  1  3  0\n",
        "2  18701  1  3  1\n",
        "3  11283  1  2  0\n",
        "4  11767  1  3  0\n",
        "5  20872  2  2  1\n",
        "6  11772  2  2  0\n",
        "7  10535  2  1  0\n",
        "8  12195  2  3  0\n",
        "9  12313  3  2  0\n",
        "\n",
        "[10 rows x 4 columns]\n"
       ]
      }
     ],
     "prompt_number": 10
    },
    {
     "cell_type": "code",
     "collapsed": false,
     "input": [
      "E = salary_table.E # Education\n",
      "M = salary_table.M # Management\n",
      "X = salary_table.X # Experience\n",
      "S = salary_table.S # Salary"
     ],
     "language": "python",
     "metadata": {},
     "outputs": [],
     "prompt_number": 11
    },
    {
     "cell_type": "markdown",
     "metadata": {},
     "source": [
      "Let's explore the data"
     ]
    },
    {
     "cell_type": "code",
     "collapsed": false,
     "input": [
      "fig = plt.figure(figsize=(10,8))\n",
      "ax = fig.add_subplot(111, xlabel='Experience', ylabel='Salary',\n",
      "            xlim=(0, 27), ylim=(9600, 28800))\n",
      "symbols = ['D', '^']\n",
      "man_label = [\"Non-Mgmt\", \"Mgmt\"]\n",
      "educ_label = [\"Bachelors\", \"Masters\", \"PhD\"]\n",
      "colors = ['r', 'g', 'blue']\n",
      "factor_groups = salary_table.groupby(['E','M'])\n",
      "for values, group in factor_groups:\n",
      "    i,j = values\n",
      "    label = \"%s - %s\" % (man_label[j], educ_label[i-1])\n",
      "    ax.scatter(group['X'], group['S'], marker=symbols[j], color=colors[i-1],\n",
      "               s=350, label=label)\n",
      "ax.legend(scatterpoints=1, markerscale=.7, labelspacing=1);"
     ],
     "language": "python",
     "metadata": {},
     "outputs": [
      {
       "metadata": {},
       "output_type": "display_data",
       "png": "[encoded data removed]",
       "text": [
        "<matplotlib.figure.Figure at 0x98d46a0>"
       ]
      }
     ],
     "prompt_number": 12
    },
    {
     "cell_type": "heading",
     "level": 3,
     "metadata": {},
     "source": [
      "Define and Fit a Linear Model"
     ]
    },
    {
     "cell_type": "markdown",
     "metadata": {},
     "source": [
      "Fit a linear model\n",
      "\n",
      "$$S_i = \\beta_0 + \\beta_1X_i + \\beta_2E_{i2} + \\beta_3E_{i3} + \\beta_4M_i + \\epsilon_i$$\n",
      "\n",
      "where\n",
      "\n",
      "$$ E_{i2}=\\cases{1,&if $E_i=2$;\\cr 0,&otherwise. \\cr}$$ \n",
      "$$ E_{i3}=\\cases{1,&if $E_i=3$;\\cr 0,&otherwise. \\cr}$$ \n"
     ]
    },
    {
     "cell_type": "markdown",
     "metadata": {},
     "source": [
      "In the following, the model is defined using \"patsy\".\n",
      "\n",
      "- An intercept is automatically included.\n",
      "- C(variable) includes the variable automatically as categories."
     ]
    },
    {
     "cell_type": "code",
     "collapsed": false,
     "input": [
      "formula = 'S ~ C(E) + C(M) + X'\n",
      "lm = ols(formula, salary_table).fit()\n",
      "print(lm.summary())"
     ],
     "language": "python",
     "metadata": {},
     "outputs": [
      {
       "output_type": "stream",
       "stream": "stdout",
       "text": [
        "                            OLS Regression Results                            \n",
        "==============================================================================\n",
        "Dep. Variable:                      S   R-squared:                       0.957\n",
        "Model:                            OLS   Adj. R-squared:                  0.953\n",
        "Method:                 Least Squares   F-statistic:                     226.8\n",
        "Date:                Thu, 03 Jul 2014   Prob (F-statistic):           2.23e-27\n",
        "Time:                        08:30:43   Log-Likelihood:                -381.63\n",
        "No. Observations:                  46   AIC:                             773.3\n",
        "Df Residuals:                      41   BIC:                             782.4\n",
        "Df Model:                           4                                         \n",
        "==============================================================================\n",
        "                 coef    std err          t      P>|t|      [95.0% Conf. Int.]\n",
        "------------------------------------------------------------------------------\n",
        "Intercept   8035.5976    386.689     20.781      0.000      7254.663  8816.532\n",
        "C(E)[T.2]   3144.0352    361.968      8.686      0.000      2413.025  3875.045\n",
        "C(E)[T.3]   2996.2103    411.753      7.277      0.000      2164.659  3827.762\n",
        "C(M)[T.1]   6883.5310    313.919     21.928      0.000      6249.559  7517.503\n",
        "X            546.1840     30.519     17.896      0.000       484.549   607.819\n",
        "==============================================================================\n",
        "Omnibus:                        2.293   Durbin-Watson:                   2.237\n",
        "Prob(Omnibus):                  0.318   Jarque-Bera (JB):                1.362\n",
        "Skew:                          -0.077   Prob(JB):                        0.506\n",
        "Kurtosis:                       2.171   Cond. No.                         33.5\n",
        "==============================================================================\n"
       ]
      }
     ],
     "prompt_number": 13
    },
    {
     "cell_type": "markdown",
     "metadata": {},
     "source": [
      "*Dep. Variable*\n",
      "    the variable to be fitted; here, the \"Salary\"\n",
      "\n",
      "*Model*\n",
      "    OLS = ordinary least squares\n",
      "\n",
      "*Df Residuals*\n",
      "    The number of observations, minus the number of parameters fitted.\n",
      "\n",
      "*Df model*\n",
      "    \"Degree of Freedom\" of the model, i.e. the dimensionnality of the subspace spanned by the model. This entails that the intercept is not counted.\n",
      "\n",
      "*R-squared*\n",
      "    Coefficient of Determination = (S0-Sm)/S0\n",
      "\n",
      "*Adj. R-squared*\n",
      "    The adjusted R2 coefficient, which takes into consideration the number of model paramters.\n",
      "\n",
      "*F-statistic*, and corresponding *Prob*\n",
      "    F-test on the regression model, if it is significantly different from the minimum model (i.e. a constant offset only)\n",
      "\n",
      "*Log-Likelihood*\n",
      "    Maximum log-likelihood value for the model.\n",
      "\n",
      "*AIC*\n",
      "    Aiken's Information Criterion, for the assessment of the model.\n",
      "\n",
      "*BIC*\n",
      "    Bayesian Information Criterion, for the assessment of the model.\n",
      "\n",
      "The values in the lowest box describe properties of the residuals (\"Skew\", \"Kurtosisi\"), as well as tests on the residuals."
     ]
    },
    {
     "cell_type": "heading",
     "level": 3,
     "metadata": {},
     "source": [
      "Inspect the Design Matrix, and demonstrate the Model Predictions"
     ]
    },
    {
     "cell_type": "markdown",
     "metadata": {},
     "source": [
      "Look at the design matrix created for us. Every results instance has a reference to the model."
     ]
    },
    {
     "cell_type": "code",
     "collapsed": false,
     "input": [
      "lm.model.exog[:10]"
     ],
     "language": "python",
     "metadata": {},
     "outputs": [
      {
       "metadata": {},
       "output_type": "pyout",
       "prompt_number": 14,
       "text": [
        "array([[ 1.,  0.,  0.,  1.,  1.],\n",
        "       [ 1.,  0.,  1.,  0.,  1.],\n",
        "       [ 1.,  0.,  1.,  1.,  1.],\n",
        "       [ 1.,  1.,  0.,  0.,  1.],\n",
        "       [ 1.,  0.,  1.,  0.,  1.],\n",
        "       [ 1.,  1.,  0.,  1.,  2.],\n",
        "       [ 1.,  1.,  0.,  0.,  2.],\n",
        "       [ 1.,  0.,  0.,  0.,  2.],\n",
        "       [ 1.,  0.,  1.,  0.,  2.],\n",
        "       [ 1.,  1.,  0.,  0.,  3.]])"
       ]
      }
     ],
     "prompt_number": 14
    },
    {
     "cell_type": "markdown",
     "metadata": {},
     "source": [
      "Since we initially passed in a DataFrame, we have a transformed DataFrame available."
     ]
    },
    {
     "cell_type": "code",
     "collapsed": false,
     "input": [
      "print(lm.model.data.orig_exog.head(10))"
     ],
     "language": "python",
     "metadata": {},
     "outputs": [
      {
       "output_type": "stream",
       "stream": "stdout",
       "text": [
        "   Intercept  C(E)[T.2]  C(E)[T.3]  C(M)[T.1]  X\n",
        "0          1          0          0          1  1\n",
        "1          1          0          1          0  1\n",
        "2          1          0          1          1  1\n",
        "3          1          1          0          0  1\n",
        "4          1          0          1          0  1\n",
        "5          1          1          0          1  2\n",
        "6          1          1          0          0  2\n",
        "7          1          0          0          0  2\n",
        "8          1          0          1          0  2\n",
        "9          1          1          0          0  3\n",
        "\n",
        "[10 rows x 5 columns]\n"
       ]
      }
     ],
     "prompt_number": 15
    },
    {
     "cell_type": "markdown",
     "metadata": {},
     "source": [
      "There is a reference to the original untouched data in"
     ]
    },
    {
     "cell_type": "code",
     "collapsed": false,
     "input": [
      "print(lm.model.data.frame.head(10))"
     ],
     "language": "python",
     "metadata": {},
     "outputs": [
      {
       "output_type": "stream",
       "stream": "stdout",
       "text": [
        "       S  X  E  M\n",
        "0  13876  1  1  1\n",
        "1  11608  1  3  0\n",
        "2  18701  1  3  1\n",
        "3  11283  1  2  0\n",
        "4  11767  1  3  0\n",
        "5  20872  2  2  1\n",
        "6  11772  2  2  0\n",
        "7  10535  2  1  0\n",
        "8  12195  2  3  0\n",
        "9  12313  3  2  0\n",
        "\n",
        "[10 rows x 4 columns]\n"
       ]
      }
     ],
     "prompt_number": 16
    },
    {
     "cell_type": "markdown",
     "metadata": {},
     "source": [
      "If you use the formula interface, statsmodels remembers this transformation. Say you want to know the predicted salary for someone with 12 years experience and a Master's degree who is in a management position"
     ]
    },
    {
     "cell_type": "code",
     "collapsed": false,
     "input": [
      "lm.predict({'X' : [12], 'M' : [1], 'E' : [2]})"
     ],
     "language": "python",
     "metadata": {},
     "outputs": [
      {
       "metadata": {},
       "output_type": "pyout",
       "prompt_number": 17,
       "text": [
        "array([ 24617.37207242])"
       ]
      }
     ],
     "prompt_number": 17
    },
    {
     "cell_type": "heading",
     "level": 3,
     "metadata": {},
     "source": [
      "Check the Residuals"
     ]
    },
    {
     "cell_type": "markdown",
     "metadata": {},
     "source": [
      "So far we've assumed that the effect of experience is the same for each level of education and professional role.\n",
      "Perhaps this assumption isn't merited. We can formally test this using some interactions."
     ]
    },
    {
     "cell_type": "markdown",
     "metadata": {},
     "source": [
      "We can start by seeing if our model assumptions are met. Let's look at a residuals plot, with the groups separated."
     ]
    },
    {
     "cell_type": "code",
     "collapsed": false,
     "input": [
      "fig = plt.figure(figsize=(12,8))\n",
      "xticks = []\n",
      "ax = fig.add_subplot(111, xlabel='Group (E, M)', ylabel='Residuals')\n",
      "for values, group in factor_groups:\n",
      "    i,j = values\n",
      "    xticks.append(str((i, j)))\n",
      "    group_num = i*2 + j - 1 # for plotting purposes\n",
      "    x = [group_num] * len(group)\n",
      "    ax.scatter(x, resid[group.index], marker=symbols[j], color=colors[i-1],\n",
      "            s=144, edgecolors='black')\n",
      "ax.set_xticks([1,2,3,4,5,6])\n",
      "ax.set_xticklabels(xticks)\n",
      "ax.axis('tight');\n"
     ],
     "language": "python",
     "metadata": {},
     "outputs": [
      {
       "metadata": {},
       "output_type": "display_data",
       "png": "[encoded data removed]",
       "text": [
        "<matplotlib.figure.Figure at 0x9b844e0>"
       ]
      }
     ],
     "prompt_number": 19
    },
    {
     "cell_type": "code",
     "collapsed": false,
     "input": [
      "resid = lm.resid"
     ],
     "language": "python",
     "metadata": {},
     "outputs": [],
     "prompt_number": 18
    },
    {
     "cell_type": "markdown",
     "metadata": {},
     "source": [
      "Obviously, the linear model alone does not capture all model features, as the residuals are not normally distributed within each group. To improve the model, we check if interactions between the model parameters can explain the group differences."
     ]
    },
    {
     "cell_type": "heading",
     "level": 3,
     "metadata": {},
     "source": [
      "Add an Interaction"
     ]
    },
    {
     "cell_type": "heading",
     "level": 4,
     "metadata": {},
     "source": [
      "Interaction Salary*Experience"
     ]
    },
    {
     "cell_type": "markdown",
     "metadata": {},
     "source": [
      "Add an interaction between salary and experience, allowing different intercepts for level of experience.\n",
      "\n",
      "$$S_i = \\beta_0+\\beta_1X_i+\\beta_2E_{i2}+\\beta_3E_{i3}+\\beta_4M_i+\\beta_5E_{i2}X_i+\\beta_6E_{i3}X_i+\\epsilon_i$$"
     ]
    },
    {
     "cell_type": "code",
     "collapsed": false,
     "input": [
      "interX_lm = ols('S ~ C(E)*X + C(M)', salary_table).fit()\n",
      "print(interX_lm.summary())"
     ],
     "language": "python",
     "metadata": {},
     "outputs": []
    },
    {
     "cell_type": "markdown",
     "metadata": {},
     "source": [
      "The \"Factor\" Experience has the \"Treatments\" (or elements) \"1\", \"2\", and \"3\". Since the \"Treatment 1\"([T.1]) is taken as the reference, it is not listed here explicitly. This is called \"corner-point\" approach.\n",
      "Similarly, the \"Factor\" Management has the \"Treatments\" \"0\" and \"1\". With \"0\" taken as the reference, only the term C(M)[T.1] is listed in the model.\n",
      "The interactions are described by the terms \"C(E)[T.i]:X\"."
     ]
    },
    {
     "cell_type": "heading",
     "level": 5,
     "metadata": {},
     "source": [
      "Test the Interaction Management*Experience"
     ]
    },
    {
     "cell_type": "markdown",
     "metadata": {},
     "source": [
      "Test that $\\beta_5 = \\beta_6 = 0$. We can use anova_lm or we can use an F-test."
     ]
    },
    {
     "cell_type": "code",
     "collapsed": false,
     "input": [
      "print(anova_lm(lm, interX_lm))"
     ],
     "language": "python",
     "metadata": {},
     "outputs": []
    },
    {
     "cell_type": "code",
     "collapsed": false,
     "input": [
      "print(interX_lm.f_test('C(E)[T.2]:X = C(E)[T.3]:X = 0'))"
     ],
     "language": "python",
     "metadata": {},
     "outputs": []
    },
    {
     "cell_type": "code",
     "collapsed": false,
     "input": [
      "print(interX_lm.f_test([[0,0,0,0,0,1,-1],[0,0,0,0,0,0,1]]))"
     ],
     "language": "python",
     "metadata": {},
     "outputs": []
    },
    {
     "cell_type": "markdown",
     "metadata": {},
     "source": [
      "Both tests show that the models are not significantly different. In other words, there is no interaction effect between Management and Experience in the data."
     ]
    },
    {
     "cell_type": "markdown",
     "metadata": {},
     "source": [
      "The contrasts are created here under the hood by patsy."
     ]
    },
    {
     "cell_type": "markdown",
     "metadata": {},
     "source": [
      "Recall that F-tests are of the form $R\\beta = q$"
     ]
    },
    {
     "cell_type": "code",
     "collapsed": false,
     "input": [
      "LC = interX_lm.model.data.orig_exog.design_info.linear_constraint('C(E)[T.2]:X = C(E)[T.3]:X = 0')\n",
      "print(LC.coefs)\n",
      "print(LC.constants)"
     ],
     "language": "python",
     "metadata": {},
     "outputs": []
    },
    {
     "cell_type": "heading",
     "level": 4,
     "metadata": {},
     "source": [
      "Interact education with management"
     ]
    },
    {
     "cell_type": "code",
     "collapsed": false,
     "input": [
      "interM_lm = ols('S ~ X + C(E)*C(M)', salary_table).fit()\n",
      "print(interM_lm.summary())"
     ],
     "language": "python",
     "metadata": {},
     "outputs": []
    },
    {
     "cell_type": "code",
     "collapsed": false,
     "input": [
      "print(anova_lm(lm, interM_lm))"
     ],
     "language": "python",
     "metadata": {},
     "outputs": []
    },
    {
     "cell_type": "raw",
     "metadata": {},
     "source": [
      "The interaction effect Management*Education is highly significant!"
     ]
    },
    {
     "cell_type": "code",
     "collapsed": false,
     "input": [
      "infl = interM_lm.get_influence()\n",
      "resid = infl.resid_studentized_internal"
     ],
     "language": "python",
     "metadata": {},
     "outputs": []
    },
    {
     "cell_type": "heading",
     "level": 5,
     "metadata": {},
     "source": [
      "Check the residuals of the extended model"
     ]
    },
    {
     "cell_type": "code",
     "collapsed": false,
     "input": [
      "fig = plt.figure(figsize=(12,8))\n",
      "ax = fig.add_subplot(111, xlabel='X', ylabel='standardized resids')\n",
      "\n",
      "for values, group in factor_groups:\n",
      "    i,j = values\n",
      "    idx = group.index\n",
      "    ax.scatter(X[idx], resid[idx], marker=symbols[j], color=colors[i-1],\n",
      "            s=144, edgecolors='black')\n",
      "ax.axis('tight');"
     ],
     "language": "python",
     "metadata": {},
     "outputs": []
    },
    {
     "cell_type": "markdown",
     "metadata": {},
     "source": [
      "There looks to be an outlier."
     ]
    },
    {
     "cell_type": "heading",
     "level": 4,
     "metadata": {},
     "source": [
      "Find and Remove the Outlier"
     ]
    },
    {
     "cell_type": "code",
     "collapsed": false,
     "input": [
      "outl = interM_lm.outlier_test('fdr_bh')\n",
      "outl.sort('unadj_p', inplace=True)\n",
      "print(outl)"
     ],
     "language": "python",
     "metadata": {},
     "outputs": []
    },
    {
     "cell_type": "code",
     "collapsed": false,
     "input": [
      "idx = salary_table.index.drop(32)"
     ],
     "language": "python",
     "metadata": {},
     "outputs": []
    },
    {
     "cell_type": "code",
     "collapsed": false,
     "input": [
      "print(idx)"
     ],
     "language": "python",
     "metadata": {},
     "outputs": []
    },
    {
     "cell_type": "heading",
     "level": 5,
     "metadata": {},
     "source": [
      "Rerun the original linear model without the outlier"
     ]
    },
    {
     "cell_type": "code",
     "collapsed": false,
     "input": [
      "lm32 = ols('S ~ C(E) + X + C(M)', data=salary_table, subset=idx).fit()\n",
      "print(lm32.summary())"
     ],
     "language": "python",
     "metadata": {},
     "outputs": []
    },
    {
     "cell_type": "heading",
     "level": 4,
     "metadata": {},
     "source": [
      "Interaction Education*Experience"
     ]
    },
    {
     "cell_type": "code",
     "collapsed": false,
     "input": [
      "interX_lm32 = ols('S ~ C(E) * X + C(M)', data=salary_table, subset=idx).fit()\n",
      "print(interX_lm32.summary())"
     ],
     "language": "python",
     "metadata": {},
     "outputs": []
    },
    {
     "cell_type": "code",
     "collapsed": false,
     "input": [
      "table3 = anova_lm(lm32, interX_lm32)\n",
      "print(table3)"
     ],
     "language": "python",
     "metadata": {},
     "outputs": []
    },
    {
     "cell_type": "markdown",
     "metadata": {},
     "source": [
      "Again, this is not significant, and can be left away."
     ]
    },
    {
     "cell_type": "heading",
     "level": 3,
     "metadata": {},
     "source": [
      "Final Result"
     ]
    },
    {
     "cell_type": "markdown",
     "metadata": {},
     "source": [
      "Result from the Interaction Test: the significant model with Interaction Experience*Management, without the outlier #32"
     ]
    },
    {
     "cell_type": "code",
     "collapsed": false,
     "input": [
      "interM_lm32 = ols('S ~ X + C(E) * C(M)', data=salary_table, subset=idx).fit()\n",
      "print(anova_lm(lm32, interM_lm32))"
     ],
     "language": "python",
     "metadata": {},
     "outputs": []
    },
    {
     "cell_type": "markdown",
     "metadata": {},
     "source": [
      "Re-plotting the residuals"
     ]
    },
    {
     "cell_type": "code",
     "collapsed": false,
     "input": [
      "resid = interM_lm32.get_influence().summary_frame()['standard_resid']\n",
      "fig = plt.figure(figsize=(12,8))\n",
      "ax = fig.add_subplot(111, xlabel='X[~[32]]', ylabel='standardized resids')\n",
      "\n",
      "for values, group in factor_groups:\n",
      "    i,j = values\n",
      "    idx = group.index\n",
      "    ax.scatter(X[idx], resid[idx], marker=symbols[j], color=colors[i-1],\n",
      "            s=144, edgecolors='black')\n",
      "ax.axis('tight');"
     ],
     "language": "python",
     "metadata": {},
     "outputs": []
    },
    {
     "cell_type": "markdown",
     "metadata": {},
     "source": [
      "A final plot of the fitted values"
     ]
    },
    {
     "cell_type": "code",
     "collapsed": false,
     "input": [
      "lm_final = ols('S ~ X + C(E)*C(M)', data=salary_table.drop([32])).fit()\n",
      "mf = lm_final.model.data.orig_exog\n",
      "lstyle = ['-','--']\n",
      "\n",
      "fig = plt.figure(figsize=(12,8))\n",
      "ax = fig.add_subplot(111, xlabel='Experience', ylabel='Salary')\n",
      "\n",
      "for values, group in factor_groups:\n",
      "    i,j = values\n",
      "    idx = group.index\n",
      "    ax.scatter(X[idx], S[idx], marker=symbols[j], color=colors[i-1],\n",
      "            s=144, edgecolors='black')\n",
      "    # drop NA because there is no idx 32 in the final model\n",
      "    ax.plot(mf.X[idx].dropna(), lm_final.fittedvalues[idx].dropna(),\n",
      "            ls=lstyle[j], color=colors[i-1])\n",
      "ax.axis('tight');"
     ],
     "language": "python",
     "metadata": {},
     "outputs": []
    },
    {
     "cell_type": "heading",
     "level": 5,
     "metadata": {},
     "source": [
      "Interaction Plot Salary | Experience"
     ]
    },
    {
     "cell_type": "markdown",
     "metadata": {},
     "source": [
      "From our first look at the data, the difference between Master's and PhD in the management group is different than in the non-management group. This is an interaction between the two qualitative variables management, M and education, E. We can visualize this by first removing the effect of experience, then plotting the means within each of the 6 groups using interaction.plot."
     ]
    },
    {
     "cell_type": "code",
     "collapsed": false,
     "input": [
      "U = S - X * interX_lm32.params['X']\n",
      "U.name = 'Salary|X'\n",
      "\n",
      "fig = plt.figure(figsize=(12,8))\n",
      "ax = fig.add_subplot(111)\n",
      "ax = interaction_plot(E, M, U, colors=['red','blue'], markers=['^','D'],\n",
      "        markersize=10, ax=ax)"
     ],
     "language": "python",
     "metadata": {},
     "outputs": []
    },
    {
     "cell_type": "heading",
     "level": 2,
     "metadata": {},
     "source": [
      "Example 2: Minority Employment Data - ABLine plotting"
     ]
    },
    {
     "cell_type": "raw",
     "metadata": {},
     "source": [
      "TEST  - Job Aptitude Test Score\n",
      "ETHN  - 1 if minority, 0 otherwise\n",
      "JPERF - Job performance evaluation"
     ]
    },
    {
     "cell_type": "code",
     "collapsed": false,
     "input": [
      "try:\n",
      "    minority_table = pandas.read_table('minority.table')\n",
      "except: # don't have data already\n",
      "    url = 'http://stats191.stanford.edu/data/minority.table'\n",
      "    minority_table = pandas.read_table(url)\n",
      "    minority_table.to_csv('minority.table', sep=\"\\t\", index=False)"
     ],
     "language": "python",
     "metadata": {},
     "outputs": []
    },
    {
     "cell_type": "code",
     "collapsed": false,
     "input": [
      "factor_group = minority_table.groupby(['ETHN'])\n",
      "\n",
      "fig = plt.figure(figsize=(12,8))\n",
      "ax = fig.add_subplot(111, xlabel='TEST', ylabel='JPERF')\n",
      "colors = ['purple', 'green']\n",
      "markers = ['o', 'v']\n",
      "for factor, group in factor_group:\n",
      "    ax.scatter(group['TEST'], group['JPERF'], color=colors[factor],\n",
      "                marker=markers[factor], s=12**2)\n",
      "ax.legend(['ETHN == 1', 'ETHN == 0'], scatterpoints=1)"
     ],
     "language": "python",
     "metadata": {},
     "outputs": []
    },
    {
     "cell_type": "code",
     "collapsed": false,
     "input": [
      "min_lm = ols('JPERF ~ TEST', data=minority_table).fit()\n",
      "print(min_lm.summary())"
     ],
     "language": "python",
     "metadata": {},
     "outputs": []
    },
    {
     "cell_type": "code",
     "collapsed": false,
     "input": [
      "fig = plt.figure(figsize=(12,8))\n",
      "ax = fig.add_subplot(111, xlabel='TEST', ylabel='JPERF')\n",
      "for factor, group in factor_group:\n",
      "    ax.scatter(group['TEST'], group['JPERF'], color=colors[factor],\n",
      "                marker=markers[factor], s=12**2)\n",
      "ax.legend(['ETHN == 1', 'ETHN == 0'], scatterpoints=1, loc='upper left')\n",
      "fig = abline_plot(model_results = min_lm, ax=ax)"
     ],
     "language": "python",
     "metadata": {},
     "outputs": []
    },
    {
     "cell_type": "code",
     "collapsed": false,
     "input": [
      "min_lm2 = ols('JPERF ~ TEST + TEST:ETHN', data=minority_table).fit()\n",
      "print(min_lm2.summary())"
     ],
     "language": "python",
     "metadata": {},
     "outputs": []
    },
    {
     "cell_type": "code",
     "collapsed": false,
     "input": [
      "fig = plt.figure(figsize=(12,8))\n",
      "ax = fig.add_subplot(111, xlabel='TEST', ylabel='JPERF')\n",
      "for factor, group in factor_group:\n",
      "    ax.scatter(group['TEST'], group['JPERF'], color=colors[factor],\n",
      "                marker=markers[factor], s=12**2)\n",
      "\n",
      "fig = abline_plot(intercept = min_lm2.params['Intercept'],\n",
      "                 slope = min_lm2.params['TEST'], ax=ax, color='purple')\n",
      "ax = fig.axes[0]\n",
      "fig = abline_plot(intercept = min_lm2.params['Intercept'],\n",
      "        slope = min_lm2.params['TEST'] + min_lm2.params['TEST:ETHN'],\n",
      "        ax=ax, color='green')\n",
      "ax.legend(['ETHN == 1', 'ETHN == 0'], scatterpoints=1, loc='upper left');"
     ],
     "language": "python",
     "metadata": {},
     "outputs": []
    },
    {
     "cell_type": "code",
     "collapsed": false,
     "input": [
      "min_lm3 = ols('JPERF ~ TEST + ETHN', data=minority_table).fit()\n",
      "print(min_lm3.summary())"
     ],
     "language": "python",
     "metadata": {},
     "outputs": []
    },
    {
     "cell_type": "code",
     "collapsed": false,
     "input": [
      "fig = plt.figure(figsize=(12,8))\n",
      "ax = fig.add_subplot(111, xlabel='TEST', ylabel='JPERF')\n",
      "for factor, group in factor_group:\n",
      "    ax.scatter(group['TEST'], group['JPERF'], color=colors[factor],\n",
      "                marker=markers[factor], s=12**2)\n",
      "\n",
      "fig = abline_plot(intercept = min_lm3.params['Intercept'],\n",
      "                 slope = min_lm3.params['TEST'], ax=ax, color='purple')\n",
      "\n",
      "ax = fig.axes[0]\n",
      "fig = abline_plot(intercept = min_lm3.params['Intercept'] + min_lm3.params['ETHN'],\n",
      "        slope = min_lm3.params['TEST'], ax=ax, color='green')\n",
      "ax.legend(['ETHN == 1', 'ETHN == 0'], scatterpoints=1, loc='upper left');"
     ],
     "language": "python",
     "metadata": {},
     "outputs": []
    },
    {
     "cell_type": "code",
     "collapsed": false,
     "input": [
      "min_lm4 = ols('JPERF ~ TEST * ETHN', data=minority_table).fit()\n",
      "print(min_lm4.summary())"
     ],
     "language": "python",
     "metadata": {},
     "outputs": []
    },
    {
     "cell_type": "code",
     "collapsed": false,
     "input": [
      "fig = plt.figure(figsize=(12,8))\n",
      "ax = fig.add_subplot(111, ylabel='JPERF', xlabel='TEST')\n",
      "for factor, group in factor_group:\n",
      "    ax.scatter(group['TEST'], group['JPERF'], color=colors[factor],\n",
      "                marker=markers[factor], s=12**2)\n",
      "\n",
      "fig = abline_plot(intercept = min_lm4.params['Intercept'],\n",
      "                 slope = min_lm4.params['TEST'], ax=ax, color='purple')\n",
      "ax = fig.axes[0]\n",
      "fig = abline_plot(intercept = min_lm4.params['Intercept'] + min_lm4.params['ETHN'],\n",
      "        slope = min_lm4.params['TEST'] + min_lm4.params['TEST:ETHN'],\n",
      "        ax=ax, color='green')\n",
      "ax.legend(['ETHN == 1', 'ETHN == 0'], scatterpoints=1, loc='upper left');"
     ],
     "language": "python",
     "metadata": {},
     "outputs": []
    },
    {
     "cell_type": "markdown",
     "metadata": {},
     "source": [
      "Is there any effect of ETHN on slope or intercept?\n",
      "<br />\n",
      "Y ~ TEST vs. Y ~ TEST + ETHN + ETHN:TEST"
     ]
    },
    {
     "cell_type": "code",
     "collapsed": false,
     "input": [
      "table5 = anova_lm(min_lm, min_lm4)\n",
      "print(table5)"
     ],
     "language": "python",
     "metadata": {},
     "outputs": []
    },
    {
     "cell_type": "markdown",
     "metadata": {},
     "source": [
      "Is there any effect of ETHN on intercept?\n",
      "<br />\n",
      "Y ~ TEST vs. Y ~ TEST + ETHN"
     ]
    },
    {
     "cell_type": "code",
     "collapsed": false,
     "input": [
      "table6 = anova_lm(min_lm, min_lm3)\n",
      "print(table6)"
     ],
     "language": "python",
     "metadata": {},
     "outputs": []
    },
    {
     "cell_type": "markdown",
     "metadata": {},
     "source": [
      "Is there any effect of ETHN on slope?\n",
      "<br />\n",
      "Y ~ TEST vs. Y ~ TEST + ETHN:TEST"
     ]
    },
    {
     "cell_type": "code",
     "collapsed": false,
     "input": [
      "table7 = anova_lm(min_lm, min_lm2)\n",
      "print(table7)"
     ],
     "language": "python",
     "metadata": {},
     "outputs": []
    },
    {
     "cell_type": "markdown",
     "metadata": {},
     "source": [
      "Is it just the slope or both?\n",
      "<br />\n",
      "Y ~ TEST + ETHN:TEST vs Y ~ TEST + ETHN + ETHN:TEST"
     ]
    },
    {
     "cell_type": "code",
     "collapsed": false,
     "input": [
      "table8 = anova_lm(min_lm2, min_lm4)\n",
      "print(table8)"
     ],
     "language": "python",
     "metadata": {},
     "outputs": []
    },
    {
     "cell_type": "heading",
     "level": 3,
     "metadata": {},
     "source": [
      "Two Way ANOVA - Kidney failure data"
     ]
    },
    {
     "cell_type": "raw",
     "metadata": {},
     "source": [
      "Weight - (1,2,3) - Level of weight gan between treatments\n",
      "Duration - (1,2) - Level of duration of treatment\n",
      "Days - Time of stay in hospital"
     ]
    },
    {
     "cell_type": "code",
     "collapsed": false,
     "input": [
      "try:\n",
      "    kidney_table = pandas.read_table('kidney.table')\n",
      "except:\n",
      "    url = 'http://stats191.stanford.edu/data/kidney.table'\n",
      "    kidney_table = pandas.read_table(url, delimiter=\" *\")\n",
      "    kidney_table.to_csv(\"kidney.table\", sep=\"\\t\", index=False)"
     ],
     "language": "python",
     "metadata": {},
     "outputs": []
    },
    {
     "cell_type": "code",
     "collapsed": false,
     "input": [
      "# Explore the dataset, it's a balanced design\n",
      "print(kidney_table.groupby(['Weight', 'Duration']).size())"
     ],
     "language": "python",
     "metadata": {},
     "outputs": []
    },
    {
     "cell_type": "code",
     "collapsed": false,
     "input": [
      "kt = kidney_table\n",
      "fig = plt.figure(figsize=(10,8))\n",
      "ax = fig.add_subplot(111)\n",
      "fig = interaction_plot(kt['Weight'], kt['Duration'], np.log(kt['Days']+1),\n",
      "        colors=['red', 'blue'], markers=['D','^'], ms=10, ax=ax)"
     ],
     "language": "python",
     "metadata": {},
     "outputs": []
    },
    {
     "cell_type": "markdown",
     "metadata": {},
     "source": [
      "$$Y_{ijk} = \\mu + \\alpha_i + \\beta_j + \\left(\\alpha\\beta\\right)_{ij}+\\epsilon_{ijk}$$\n",
      "\n",
      "with \n",
      "\n",
      "$$\\epsilon_{ijk}\\sim N\\left(0,\\sigma^2\\right)$$"
     ]
    },
    {
     "cell_type": "code",
     "collapsed": false,
     "input": [
      "help(anova_lm)"
     ],
     "language": "python",
     "metadata": {},
     "outputs": []
    },
    {
     "cell_type": "markdown",
     "metadata": {},
     "source": [
      "Things available in the calling namespace are available in the formula evaluation namespace"
     ]
    },
    {
     "cell_type": "code",
     "collapsed": false,
     "input": [
      "kidney_lm = ols('np.log(Days+1) ~ C(Duration) * C(Weight)', data=kt).fit()"
     ],
     "language": "python",
     "metadata": {},
     "outputs": []
    },
    {
     "cell_type": "markdown",
     "metadata": {},
     "source": [
      "ANOVA Type-I Sum of Squares\n",
      "<br /><br />\n",
      "SS(A) for factor A. <br />\n",
      "SS(B|A) for factor B. <br />\n",
      "SS(AB|B, A) for interaction AB. <br />"
     ]
    },
    {
     "cell_type": "code",
     "collapsed": false,
     "input": [
      "print(anova_lm(kidney_lm))"
     ],
     "language": "python",
     "metadata": {},
     "outputs": []
    },
    {
     "cell_type": "markdown",
     "metadata": {},
     "source": [
      "ANOVA Type-II Sum of Squares\n",
      "<br /><br />\n",
      "SS(A|B) for factor A. <br />\n",
      "SS(B|A) for factor B. <br />"
     ]
    },
    {
     "cell_type": "code",
     "collapsed": false,
     "input": [
      "print(anova_lm(kidney_lm, typ=2))"
     ],
     "language": "python",
     "metadata": {},
     "outputs": []
    },
    {
     "cell_type": "raw",
     "metadata": {},
     "source": [
      "ANOVA Type-III Sum of Squares\n",
      "<br /><br />\n",
      "SS(A|B, AB) for factor A. <br />\n",
      "SS(B|A, AB) for factor B. <br />"
     ]
    },
    {
     "cell_type": "code",
     "collapsed": false,
     "input": [
      "print(anova_lm(ols('np.log(Days+1) ~ C(Duration, Sum) * C(Weight, Poly)', \n",
      "                   data=kt).fit(), typ=3))"
     ],
     "language": "python",
     "metadata": {},
     "outputs": []
    },
    {
     "cell_type": "heading",
     "level": 4,
     "metadata": {},
     "source": [
      "Excercise: Find the 'best' model for the kidney failure dataset"
     ]
    }
   ],
   "metadata": {}
  }
 ]
}